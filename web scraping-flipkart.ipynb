{
 "cells": [
  {
   "cell_type": "markdown",
   "metadata": {},
   "source": [
    "# E-commerce website Flipkart \n",
    "# OPPO 10000 mAh Power Bank (18 W) Reviews using web scraping"
   ]
  },
  {
   "cell_type": "code",
   "execution_count": 1,
   "metadata": {},
   "outputs": [],
   "source": [
    "from bs4 import BeautifulSoup as bs\n",
    "import requests\n",
    "import pandas as pd"
   ]
  },
  {
   "cell_type": "code",
   "execution_count": 2,
   "metadata": {},
   "outputs": [],
   "source": [
    "i=1\n",
    "while i<=3:\n",
    "    link=\"https://www.flipkart.com/oppo-10000-mah-power-bank-18-w/product-reviews/itm346391f1421b4?pid=PWBFUKHKCZCGAUZD&lid=LSTPWBFUKHKCZCGAUZDXPXAYY&marketplace=FLIPKART&page={}\".format(i)\n",
    "    page = requests.get(link)\n",
    "    page.content\n",
    "    soup = bs(page.content,'html.parser')\n",
    "    \n",
    "    names = soup.find_all('p',class_='_2sc7ZR _2V5EHH')\n",
    "    cust_name = []\n",
    "    for j in range(0,len(names)):\n",
    "        cust_name.append(names[j].get_text())\n",
    "        \n",
    "    Title = soup.find_all('p',class_='_2-N8zT')\n",
    "    Title_name = []\n",
    "    for i in range(0,len(Title)):\n",
    "        Title_name.append(Title[i].get_text())\n",
    "    \n",
    "    rating = soup.find_all('div',class_='_3LWZlK _1BLPMq')\n",
    "    rating_star = []\n",
    "    for i in range(0,len(rating)):\n",
    "        rating_star.append(rating[i].get_text())\n",
    "    \n",
    "    comments = soup.find_all('div',class_='t-ZTKy')\n",
    "    comment_product = []\n",
    "    for i in range(0,len(comments)):\n",
    "        comment_product.append(comments[i].get_text())\n",
    "    \n",
    "    i+=1"
   ]
  },
  {
   "cell_type": "code",
   "execution_count": 3,
   "metadata": {},
   "outputs": [
    {
     "name": "stdout",
     "output_type": "stream",
     "text": [
      "https://www.flipkart.com/oppo-10000-mah-power-bank-18-w/product-reviews/itm346391f1421b4?pid=PWBFUKHKCZCGAUZD&lid=LSTPWBFUKHKCZCGAUZDXPXAYY&marketplace=FLIPKART&page=1\n"
     ]
    }
   ],
   "source": [
    "print(link)"
   ]
  },
  {
   "cell_type": "code",
   "execution_count": 4,
   "metadata": {},
   "outputs": [],
   "source": [
    "df=pd.DataFrame()\n",
    "df['Customer Name']=cust_name\n",
    "df['Title']=Title_name\n",
    "df['Ratings out of 5']=rating_star\n",
    "df['Comments']=comment_product"
   ]
  },
  {
   "cell_type": "code",
   "execution_count": 5,
   "metadata": {},
   "outputs": [
    {
     "data": {
      "text/html": [
       "<div>\n",
       "<style scoped>\n",
       "    .dataframe tbody tr th:only-of-type {\n",
       "        vertical-align: middle;\n",
       "    }\n",
       "\n",
       "    .dataframe tbody tr th {\n",
       "        vertical-align: top;\n",
       "    }\n",
       "\n",
       "    .dataframe thead th {\n",
       "        text-align: right;\n",
       "    }\n",
       "</style>\n",
       "<table border=\"1\" class=\"dataframe\">\n",
       "  <thead>\n",
       "    <tr style=\"text-align: right;\">\n",
       "      <th></th>\n",
       "      <th>Customer Name</th>\n",
       "      <th>Title</th>\n",
       "      <th>Ratings out of 5</th>\n",
       "      <th>Comments</th>\n",
       "    </tr>\n",
       "  </thead>\n",
       "  <tbody>\n",
       "    <tr>\n",
       "      <th>0</th>\n",
       "      <td>Gitimaya Nanda</td>\n",
       "      <td>Worth every penny</td>\n",
       "      <td>5</td>\n",
       "      <td>Thanks to Flipkart...This product is Genuine a...</td>\n",
       "    </tr>\n",
       "    <tr>\n",
       "      <th>1</th>\n",
       "      <td>Shakeeb  Farooqui</td>\n",
       "      <td>Mind-blowing purchase</td>\n",
       "      <td>5</td>\n",
       "      <td>What an excellent product, Charges my phone in...</td>\n",
       "    </tr>\n",
       "    <tr>\n",
       "      <th>2</th>\n",
       "      <td>Pranav  Rathod</td>\n",
       "      <td>Fabulous!</td>\n",
       "      <td>5</td>\n",
       "      <td>If you need fast charging power bank then go f...</td>\n",
       "    </tr>\n",
       "    <tr>\n",
       "      <th>3</th>\n",
       "      <td>shashi biswal</td>\n",
       "      <td>Highly recommended</td>\n",
       "      <td>5</td>\n",
       "      <td>Very good one useful for charging , smart watc...</td>\n",
       "    </tr>\n",
       "    <tr>\n",
       "      <th>4</th>\n",
       "      <td>Abhay Aya</td>\n",
       "      <td>Delightful</td>\n",
       "      <td>4</td>\n",
       "      <td>Design:- SuperEase of Use:- GreatSize:- Bigger...</td>\n",
       "    </tr>\n",
       "    <tr>\n",
       "      <th>5</th>\n",
       "      <td>Flipkart Customer</td>\n",
       "      <td>Fabulous!</td>\n",
       "      <td>5</td>\n",
       "      <td>charging is really good and lasts longno heati...</td>\n",
       "    </tr>\n",
       "    <tr>\n",
       "      <th>6</th>\n",
       "      <td>Mayur Pawar</td>\n",
       "      <td>Excellent</td>\n",
       "      <td>5</td>\n",
       "      <td>Best power bank for oppo deviceREAD MORE</td>\n",
       "    </tr>\n",
       "    <tr>\n",
       "      <th>7</th>\n",
       "      <td>Shivsankar  Saha</td>\n",
       "      <td>Fair</td>\n",
       "      <td>3</td>\n",
       "      <td>Good looking and compactREAD MORE</td>\n",
       "    </tr>\n",
       "    <tr>\n",
       "      <th>8</th>\n",
       "      <td>Sumit Upadhyay</td>\n",
       "      <td>Terrific</td>\n",
       "      <td>5</td>\n",
       "      <td>Superb🔥🔥🔥🔥READ MORE</td>\n",
       "    </tr>\n",
       "    <tr>\n",
       "      <th>9</th>\n",
       "      <td>Prabodhan Patil</td>\n",
       "      <td>Super!</td>\n",
       "      <td>5</td>\n",
       "      <td>Very Nice 👌👍😊 &amp; Best Power bankREAD MORE</td>\n",
       "    </tr>\n",
       "  </tbody>\n",
       "</table>\n",
       "</div>"
      ],
      "text/plain": [
       "       Customer Name                  Title Ratings out of 5  \\\n",
       "0     Gitimaya Nanda      Worth every penny                5   \n",
       "1  Shakeeb  Farooqui  Mind-blowing purchase                5   \n",
       "2     Pranav  Rathod              Fabulous!                5   \n",
       "3      shashi biswal     Highly recommended                5   \n",
       "4          Abhay Aya             Delightful                4   \n",
       "5  Flipkart Customer              Fabulous!                5   \n",
       "6       Mayur Pawar               Excellent                5   \n",
       "7   Shivsankar  Saha                   Fair                3   \n",
       "8     Sumit Upadhyay               Terrific                5   \n",
       "9    Prabodhan Patil                 Super!                5   \n",
       "\n",
       "                                            Comments  \n",
       "0  Thanks to Flipkart...This product is Genuine a...  \n",
       "1  What an excellent product, Charges my phone in...  \n",
       "2  If you need fast charging power bank then go f...  \n",
       "3  Very good one useful for charging , smart watc...  \n",
       "4  Design:- SuperEase of Use:- GreatSize:- Bigger...  \n",
       "5  charging is really good and lasts longno heati...  \n",
       "6           Best power bank for oppo deviceREAD MORE  \n",
       "7                  Good looking and compactREAD MORE  \n",
       "8                                Superb🔥🔥🔥🔥READ MORE  \n",
       "9           Very Nice 👌👍😊 & Best Power bankREAD MORE  "
      ]
     },
     "execution_count": 5,
     "metadata": {},
     "output_type": "execute_result"
    }
   ],
   "source": [
    "df"
   ]
  },
  {
   "cell_type": "code",
   "execution_count": 6,
   "metadata": {},
   "outputs": [],
   "source": [
    "names = soup.find_all('p',class_='_2sc7ZR _2V5EHH')\n",
    "cust_name = []\n",
    "for j in range(0,len(names)):\n",
    "    cust_name.append(names[j].get_text())"
   ]
  },
  {
   "cell_type": "code",
   "execution_count": 7,
   "metadata": {},
   "outputs": [
    {
     "data": {
      "text/plain": [
       "['Gitimaya Nanda',\n",
       " 'Shakeeb  Farooqui',\n",
       " 'Pranav  Rathod',\n",
       " 'shashi biswal',\n",
       " 'Abhay Aya',\n",
       " 'Flipkart Customer',\n",
       " 'Mayur Pawar ',\n",
       " 'Shivsankar  Saha',\n",
       " 'Sumit Upadhyay',\n",
       " 'Prabodhan Patil']"
      ]
     },
     "execution_count": 7,
     "metadata": {},
     "output_type": "execute_result"
    }
   ],
   "source": [
    "cust_name"
   ]
  },
  {
   "cell_type": "code",
   "execution_count": 8,
   "metadata": {},
   "outputs": [
    {
     "data": {
      "text/plain": [
       "['Worth every penny',\n",
       " 'Mind-blowing purchase',\n",
       " 'Fabulous!',\n",
       " 'Highly recommended',\n",
       " 'Delightful',\n",
       " 'Fabulous!',\n",
       " 'Excellent',\n",
       " 'Fair',\n",
       " 'Terrific',\n",
       " 'Super!']"
      ]
     },
     "execution_count": 8,
     "metadata": {},
     "output_type": "execute_result"
    }
   ],
   "source": [
    "Title = soup.find_all('p',class_='_2-N8zT')\n",
    "Title_name = []\n",
    "for i in range(0,len(Title)):\n",
    "    Title_name.append(Title[i].get_text())\n",
    "Title_name"
   ]
  },
  {
   "cell_type": "code",
   "execution_count": 9,
   "metadata": {},
   "outputs": [
    {
     "data": {
      "text/plain": [
       "['5', '5', '5', '5', '4', '5', '5', '3', '5', '5']"
      ]
     },
     "execution_count": 9,
     "metadata": {},
     "output_type": "execute_result"
    }
   ],
   "source": [
    "rating = soup.find_all('div',class_='_3LWZlK _1BLPMq')\n",
    "rating_star = []\n",
    "for i in range(0,len(rating)):\n",
    "    rating_star.append(rating[i].get_text())\n",
    "rating_star"
   ]
  },
  {
   "cell_type": "code",
   "execution_count": 10,
   "metadata": {},
   "outputs": [
    {
     "data": {
      "text/plain": [
       "[\"Thanks to Flipkart...This product is Genuine and Good Quality....Good battery back up...Very slim...Design is beautiful...I'm recommend you buy this OPPO Power Bank from this seller....I am trusted this brand....👌👌👌READ MORE\",\n",
       " 'What an excellent product, Charges my phone in no time, durable and very easy to carry. Design is very cool!.READ MORE',\n",
       " 'If you need fast charging power bank then go for it I ordered this power bank for my iPhone 8 and I will tell it’s really work like 18 Watt fast ChargerREAD MORE',\n",
       " 'Very good one useful for charging , smart watch , bluetooth headset , bluetooth speaker and any small gadgets , please use the low current mode , I think black is less beautiful than the white one, after using for few more days , we will know the real performance.any thanks to flipkart.READ MORE',\n",
       " 'Design:- SuperEase of Use:- GreatSize:- Bigger in Size but slimWeight:- Not at all bulkyCharging:- 18 watt Fast charging support.Back up:- Says 10000 MAH but this is where i am highly disappointed.. Not even charging my Real me 8 fully 2 times even after charging power bank fully. What i noticed is that  practically its only 7500 MAH not more. So that part is where it lacking.Value for Money:- Super costly when it comes to Back up. No only will buy Power bank for Looks.Suggestio...READ MORE',\n",
       " 'charging is really good and lasts longno heatingthe power bank looks great tooREAD MORE',\n",
       " 'Best power bank for oppo deviceREAD MORE',\n",
       " 'Good looking and compactREAD MORE',\n",
       " 'Superb🔥🔥🔥🔥READ MORE',\n",
       " 'Very Nice 👌👍😊 & Best Power bankREAD MORE']"
      ]
     },
     "execution_count": 10,
     "metadata": {},
     "output_type": "execute_result"
    }
   ],
   "source": [
    "comments = soup.find_all('div',class_='t-ZTKy')\n",
    "comment_product = []\n",
    "for i in range(0,len(comments)):\n",
    "    comment_product.append(comments[i].get_text())\n",
    "comment_product"
   ]
  },
  {
   "cell_type": "code",
   "execution_count": 11,
   "metadata": {},
   "outputs": [],
   "source": [
    "df=pd.DataFrame()"
   ]
  },
  {
   "cell_type": "code",
   "execution_count": 12,
   "metadata": {},
   "outputs": [],
   "source": [
    "df['Customer Name']=cust_name\n",
    "df['Title']=Title_name\n",
    "df['Ratings out of 5']=rating_star\n",
    "df['Comments']=comment_product"
   ]
  },
  {
   "cell_type": "code",
   "execution_count": 13,
   "metadata": {},
   "outputs": [
    {
     "data": {
      "text/html": [
       "<div>\n",
       "<style scoped>\n",
       "    .dataframe tbody tr th:only-of-type {\n",
       "        vertical-align: middle;\n",
       "    }\n",
       "\n",
       "    .dataframe tbody tr th {\n",
       "        vertical-align: top;\n",
       "    }\n",
       "\n",
       "    .dataframe thead th {\n",
       "        text-align: right;\n",
       "    }\n",
       "</style>\n",
       "<table border=\"1\" class=\"dataframe\">\n",
       "  <thead>\n",
       "    <tr style=\"text-align: right;\">\n",
       "      <th></th>\n",
       "      <th>Customer Name</th>\n",
       "      <th>Title</th>\n",
       "      <th>Ratings out of 5</th>\n",
       "      <th>Comments</th>\n",
       "    </tr>\n",
       "  </thead>\n",
       "  <tbody>\n",
       "    <tr>\n",
       "      <th>0</th>\n",
       "      <td>Gitimaya Nanda</td>\n",
       "      <td>Worth every penny</td>\n",
       "      <td>5</td>\n",
       "      <td>Thanks to Flipkart...This product is Genuine a...</td>\n",
       "    </tr>\n",
       "    <tr>\n",
       "      <th>1</th>\n",
       "      <td>Shakeeb  Farooqui</td>\n",
       "      <td>Mind-blowing purchase</td>\n",
       "      <td>5</td>\n",
       "      <td>What an excellent product, Charges my phone in...</td>\n",
       "    </tr>\n",
       "    <tr>\n",
       "      <th>2</th>\n",
       "      <td>Pranav  Rathod</td>\n",
       "      <td>Fabulous!</td>\n",
       "      <td>5</td>\n",
       "      <td>If you need fast charging power bank then go f...</td>\n",
       "    </tr>\n",
       "    <tr>\n",
       "      <th>3</th>\n",
       "      <td>shashi biswal</td>\n",
       "      <td>Highly recommended</td>\n",
       "      <td>5</td>\n",
       "      <td>Very good one useful for charging , smart watc...</td>\n",
       "    </tr>\n",
       "    <tr>\n",
       "      <th>4</th>\n",
       "      <td>Abhay Aya</td>\n",
       "      <td>Delightful</td>\n",
       "      <td>4</td>\n",
       "      <td>Design:- SuperEase of Use:- GreatSize:- Bigger...</td>\n",
       "    </tr>\n",
       "    <tr>\n",
       "      <th>5</th>\n",
       "      <td>Flipkart Customer</td>\n",
       "      <td>Fabulous!</td>\n",
       "      <td>5</td>\n",
       "      <td>charging is really good and lasts longno heati...</td>\n",
       "    </tr>\n",
       "    <tr>\n",
       "      <th>6</th>\n",
       "      <td>Mayur Pawar</td>\n",
       "      <td>Excellent</td>\n",
       "      <td>5</td>\n",
       "      <td>Best power bank for oppo deviceREAD MORE</td>\n",
       "    </tr>\n",
       "    <tr>\n",
       "      <th>7</th>\n",
       "      <td>Shivsankar  Saha</td>\n",
       "      <td>Fair</td>\n",
       "      <td>3</td>\n",
       "      <td>Good looking and compactREAD MORE</td>\n",
       "    </tr>\n",
       "    <tr>\n",
       "      <th>8</th>\n",
       "      <td>Sumit Upadhyay</td>\n",
       "      <td>Terrific</td>\n",
       "      <td>5</td>\n",
       "      <td>Superb🔥🔥🔥🔥READ MORE</td>\n",
       "    </tr>\n",
       "    <tr>\n",
       "      <th>9</th>\n",
       "      <td>Prabodhan Patil</td>\n",
       "      <td>Super!</td>\n",
       "      <td>5</td>\n",
       "      <td>Very Nice 👌👍😊 &amp; Best Power bankREAD MORE</td>\n",
       "    </tr>\n",
       "  </tbody>\n",
       "</table>\n",
       "</div>"
      ],
      "text/plain": [
       "       Customer Name                  Title Ratings out of 5  \\\n",
       "0     Gitimaya Nanda      Worth every penny                5   \n",
       "1  Shakeeb  Farooqui  Mind-blowing purchase                5   \n",
       "2     Pranav  Rathod              Fabulous!                5   \n",
       "3      shashi biswal     Highly recommended                5   \n",
       "4          Abhay Aya             Delightful                4   \n",
       "5  Flipkart Customer              Fabulous!                5   \n",
       "6       Mayur Pawar               Excellent                5   \n",
       "7   Shivsankar  Saha                   Fair                3   \n",
       "8     Sumit Upadhyay               Terrific                5   \n",
       "9    Prabodhan Patil                 Super!                5   \n",
       "\n",
       "                                            Comments  \n",
       "0  Thanks to Flipkart...This product is Genuine a...  \n",
       "1  What an excellent product, Charges my phone in...  \n",
       "2  If you need fast charging power bank then go f...  \n",
       "3  Very good one useful for charging , smart watc...  \n",
       "4  Design:- SuperEase of Use:- GreatSize:- Bigger...  \n",
       "5  charging is really good and lasts longno heati...  \n",
       "6           Best power bank for oppo deviceREAD MORE  \n",
       "7                  Good looking and compactREAD MORE  \n",
       "8                                Superb🔥🔥🔥🔥READ MORE  \n",
       "9           Very Nice 👌👍😊 & Best Power bankREAD MORE  "
      ]
     },
     "execution_count": 13,
     "metadata": {},
     "output_type": "execute_result"
    }
   ],
   "source": [
    "df"
   ]
  },
  {
   "cell_type": "code",
   "execution_count": 14,
   "metadata": {},
   "outputs": [],
   "source": [
    "df.to_csv('Flipkart_customer_reviews.csv')"
   ]
  },
  {
   "cell_type": "code",
   "execution_count": null,
   "metadata": {},
   "outputs": [],
   "source": []
  },
  {
   "cell_type": "code",
   "execution_count": null,
   "metadata": {},
   "outputs": [],
   "source": []
  },
  {
   "cell_type": "code",
   "execution_count": null,
   "metadata": {},
   "outputs": [],
   "source": []
  },
  {
   "cell_type": "code",
   "execution_count": null,
   "metadata": {},
   "outputs": [],
   "source": []
  }
 ],
 "metadata": {
  "kernelspec": {
   "display_name": "Python 3",
   "language": "python",
   "name": "python3"
  },
  "language_info": {
   "codemirror_mode": {
    "name": "ipython",
    "version": 3
   },
   "file_extension": ".py",
   "mimetype": "text/x-python",
   "name": "python",
   "nbconvert_exporter": "python",
   "pygments_lexer": "ipython3",
   "version": "3.8.5"
  }
 },
 "nbformat": 4,
 "nbformat_minor": 4
}
